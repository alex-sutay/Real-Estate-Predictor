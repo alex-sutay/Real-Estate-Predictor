{
 "cells": [
  {
   "cell_type": "code",
   "execution_count": 3,
   "metadata": {},
   "outputs": [],
   "source": [
    "import numpy as np\n",
    "from matplotlib import pyplot\n",
    "import math"
   ]
  },
  {
   "cell_type": "code",
   "execution_count": 4,
   "metadata": {},
   "outputs": [],
   "source": [
    "data = np.loadtxt(\"realestate.txt\", delimiter = \";\")\n",
    "x, y = data[:,1:], data[:,0]\n",
    "m = y.size\n",
    "print(y)"
   ]
  },
  {
   "cell_type": "code",
   "execution_count": 5,
   "metadata": {},
   "outputs": [],
   "source": [
    "def plotMyData(x, y):\n",
    "    fig = pyplot.figure()\n",
    "    pyplot.plot(x,y, 'bo', ms=7)\n",
    "    pyplot.ylabel(\"Cost of house\")\n",
    "    pyplot.xlabel(\"Square footage of house\")"
   ]
  },
  {
   "cell_type": "code",
   "execution_count": 6,
   "metadata": {},
   "outputs": [],
   "source": [
    "def normalize(X):\n",
    "    new_arrays = []\n",
    "    averages = []\n",
    "    stand_devs = []\n",
    "    for edit_array in X.T:\n",
    "        ave = np.average(edit_array)\n",
    "        averages.append(ave)\n",
    "        std = np.std(edit_array)\n",
    "        stand_devs.append(std)\n",
    "        edit_array = np.subtract(edit_array, ave)\n",
    "        edit_array = np.divide(edit_array, std)\n",
    "        new_arrays.append(edit_array)\n",
    "    \n",
    "    return_array = np.array([np.ones(m), new_arrays[0]]).T\n",
    "    for i in range(1,len(new_arrays)):\n",
    "        return_array = np.append(return_array, np.array([new_arrays[i], np.ones(m)]).T, axis = 1)[:,:-1]\n",
    "    return return_array, averages, stand_devs\n",
    "        \n",
    "        "
   ]
  },
  {
   "cell_type": "code",
   "execution_count": 7,
   "metadata": {},
   "outputs": [],
   "source": [
    "#If your data is weird and causes runaways, try normalizing it!\n",
    "x, aves, stds = normalize(x)\n",
    "print(x)"
   ]
  },
  {
   "cell_type": "code",
   "execution_count": 8,
   "metadata": {},
   "outputs": [
    {
     "name": "stdout",
     "output_type": "stream",
     "text": [
      "32.072733877455654\n"
     ]
    }
   ],
   "source": [
    "#RUN THIS ONLY ONCE!!!!!\n",
    "# No need to run if you're normalizing\n",
    "# x = np.stack([np.ones(m), x], axis=1)\n",
    "stack_array = np.array([np.ones(m), np.ones(m)]).T\n",
    "x = np.append(stack_array, x, axis =1)[:,1:]\n",
    "print(x)"
   ]
  },
  {
   "cell_type": "code",
   "execution_count": 13,
   "metadata": {},
   "outputs": [],
   "source": [
    "def costFunction(X, Y, theta):\n",
    "    cost = 0\n",
    "    for i in range(0, m):\n",
    "        cost += ((theta[0] + (theta[1] * X[i, 1]))-Y[i])**2\n",
    "    cost *= 1/(2*m)\n",
    "    \n",
    "    # Vectorized approach\n",
    "    cost = (1/(2*m))*np.sum((X.dot(theta.T) - y)**2)\n",
    "    \n",
    "    return cost"
   ]
  },
  {
   "cell_type": "code",
   "execution_count": 18,
   "metadata": {},
   "outputs": [
    {
     "name": "stdout",
     "output_type": "stream",
     "text": [
      "[-3.89578088  1.19303364]\n"
     ]
    }
   ],
   "source": [
    "theta = np.array([float(0), float(0), float(0), float(0)])\n",
    "print(costFunction(x,y,theta))"
   ]
  },
  {
   "cell_type": "code",
   "execution_count": 19,
   "metadata": {},
   "outputs": [
    {
     "data": {
      "text/plain": [
       "[<matplotlib.lines.Line2D at 0x7f9405123e50>]"
      ]
     },
     "execution_count": 19,
     "metadata": {},
     "output_type": "execute_result"
    },
    {
     "data": {
      "image/png": "[encoded data removed]",
      "text/plain": [
       "<Figure size 432x288 with 1 Axes>"
      ]
     },
     "metadata": {
      "needs_background": "light"
     },
     "output_type": "display_data"
    }
   ],
   "source": [
    "def gradientDescent(X, Y, theta, alpha, num_iters):\n",
    "    \"\"\"\n",
    "    for L in range(num_iters):\n",
    "        new_theta = theta\n",
    "        for j in range(0, len(theta)):\n",
    "            sumpart = 0\n",
    "            for i in range(0, m):\n",
    "                sumpart += ((theta[0] + (theta[1] * X[i, 1]))-Y[i]) * X[i, j]\n",
    "            sumpart = sumpart * alpha * (1/m)\n",
    "            new_theta[j] -= sumpart\n",
    "    \"\"\" \n",
    "    \n",
    "    #Vectorized\n",
    "    for i in range(num_iters):\n",
    "        \"\"\"\n",
    "        if i%10 == 0:\n",
    "            print(theta)\n",
    "        if i%100 == 0:\n",
    "            print(\"(\" + str(i/num_iters) + '%)')\n",
    "        \"\"\"\n",
    "        J = (alpha/m)*((X.dot(theta.T) - Y).dot(X))\n",
    "        theta -= J\n",
    "        \n",
    "    return theta"
   ]
  },
  {
   "cell_type": "code",
   "execution_count": null,
   "outputs": [],
   "source": [
    "#Test Gradient Descent\n",
    "theta = np.array([float(0), float(0), float(0), float(0)])\n",
    "num_iters = 1500000\n",
    "alpha = .01\n",
    "\n",
    "print(gradientDescent(x, y, theta, alpha, num_iters))"
   ],
   "metadata": {
    "collapsed": false,
    "pycharm": {
     "name": "#%%\n"
    }
   }
  },
  {
   "cell_type": "code",
   "execution_count": null,
   "outputs": [],
   "source": [
    "print(\"Cost: \" + str(costFunction(x, y, theta)))\n",
    "print(\"Averages:\" + str(aves))\n",
    "print(\"Deviations: \" +str(stds))\n",
    "\n",
    "plotMyData(x[:,1], y)\n",
    "pyplot.plot(x[:,1], np.dot(x, theta), '-')\n",
    "pyplot.ylabel(\"Cost of house\")\n",
    "pyplot.xlabel(\"Number of bedrooms in house\")\n",
    "\n",
    "plotMyData(x[:,2], y)\n",
    "pyplot.plot(x[:,2], np.dot(x, theta), '-')\n",
    "pyplot.ylabel(\"Cost of house\")\n",
    "pyplot.xlabel(\"Number of bathrooms in house\")\n",
    "\n",
    "plotMyData(x[:,3], y)\n",
    "pyplot.plot(x[:,3], np.dot(x, theta), '-')\n",
    "pyplot.ylabel(\"Cost of house\")\n",
    "pyplot.xlabel(\"Square footage of house\")"
   ],
   "metadata": {
    "collapsed": false,
    "pycharm": {
     "name": "#%%\n"
    }
   }
  }
 ],
 "metadata": {
  "kernelspec": {
   "display_name": "Python 3",
   "language": "python",
   "name": "python3"
  },
  "language_info": {
   "codemirror_mode": {
    "name": "ipython",
    "version": 3
   },
   "file_extension": ".py",
   "mimetype": "text/x-python",
   "name": "python",
   "nbconvert_exporter": "python",
   "pygments_lexer": "ipython3",
   "version": "3.7.5"
  },
  "pycharm": {
   "stem_cell": {
    "cell_type": "raw",
    "source": [],
    "metadata": {
     "collapsed": false
    }
   }
  }
 },
 "nbformat": 4,
 "nbformat_minor": 2
}